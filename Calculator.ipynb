{
 "cells": [
  {
   "cell_type": "code",
   "execution_count": null,
   "id": "0fa06670",
   "metadata": {},
   "outputs": [
    {
     "ename": "NameError",
     "evalue": "name 'geometry' is not defined",
     "output_type": "error",
     "traceback": [
      "\u001b[1;31m---------------------------------------------------------------------------\u001b[0m",
      "\u001b[1;31mNameError\u001b[0m                                 Traceback (most recent call last)",
      "Cell \u001b[1;32mIn[10], line 6\u001b[0m\n\u001b[0;32m      4\u001b[0m root \u001b[38;5;241m=\u001b[39m tk\u001b[38;5;241m.\u001b[39mTk()\n\u001b[0;32m      5\u001b[0m root\u001b[38;5;241m.\u001b[39mtitle(\u001b[38;5;124m\"\u001b[39m\u001b[38;5;124mBasic Python Calculator\u001b[39m\u001b[38;5;124m\"\u001b[39m)\n\u001b[1;32m----> 6\u001b[0m root\u001b[38;5;241m=\u001b[39mgeometry(\u001b[38;5;124m\"\u001b[39m\u001b[38;5;124m350x450\u001b[39m\u001b[38;5;124m\"\u001b[39m)  \u001b[38;5;66;03m# Small and compact size\u001b[39;00m\n\u001b[0;32m      7\u001b[0m root\u001b[38;5;241m.\u001b[39mresizable(\u001b[38;5;28;01mFalse\u001b[39;00m, \u001b[38;5;28;01mFalse\u001b[39;00m)  \u001b[38;5;66;03m# Fixed window size\u001b[39;00m\n\u001b[0;32m      8\u001b[0m root\u001b[38;5;241m.\u001b[39mconfigure(bg\u001b[38;5;241m=\u001b[39m\u001b[38;5;124m\"\u001b[39m\u001b[38;5;124m#2c3e50\u001b[39m\u001b[38;5;124m\"\u001b[39m)  \u001b[38;5;66;03m# Dark background\u001b[39;00m\n",
      "\u001b[1;31mNameError\u001b[0m: name 'geometry' is not defined"
     ]
    }
   ],
   "source": [
    "import tkinter as tk  # Import tkinter for GUI\n",
    "\n",
    "# Step 1: Create the main window\n",
    "root = tk.Tk()\n",
    "root.title(\"Basic Python Calculator\")\n",
    "root.geometry(\"350x450\")  # Small and compact size\n",
    "root.resizable(False, False)  # Fixed window size\n",
    "root.configure(bg=\"#2c3e50\")  # Dark background\n",
    "\n",
    "# Step 2: Entry field for displaying input/output\n",
    "entry = tk.Entry(root, font=(\"Arial\", 20), bd=5, relief=tk.FLAT, justify=\"right\", bg=\"#ecf0f1\", fg=\"#2c3e50\")\n",
    "entry.pack(pady=20, padx=10, fill=\"x\")\n",
    "\n",
    "# Step 3: Function to add button text to entry\n",
    "def add_to_entry(symbol):\n",
    "    entry.insert(tk.END, symbol)\n",
    "\n",
    "# Step 4: Function to evaluate expression\n",
    "def calculate():\n",
    "    try:\n",
    "        result = eval(entry.get())\n",
    "        entry.delete(0, tk.END)\n",
    "        entry.insert(0, str(result))\n",
    "    except:\n",
    "        entry.delete(0, tk.END)\n",
    "        entry.insert(0, \"Error\")\n",
    "\n",
    "# Step 5: Function to clear entry\n",
    "def clear():\n",
    "    entry.delete(0, tk.END)\n",
    "\n",
    "# Step 6: Create a frame to hold buttons\n",
    "btn_frame = tk.Frame(root, bg=\"#2c3e50\")\n",
    "btn_frame.pack()\n",
    "\n",
    "# Step 7: Button details - text, row, column\n",
    "buttons = [\n",
    "    ('7', 1, 0), ('8', 1, 1), ('9', 1, 2), ('/', 1, 3),\n",
    "    ('4', 2, 0), ('5', 2, 1), ('6', 2, 2), ('*', 2, 3),\n",
    "    ('1', 3, 0), ('2', 3, 1), ('3', 3, 2), ('-', 3, 3),\n",
    "    ('0', 4, 0), ('.', 4, 1), ('=', 4, 2), ('+', 4, 3),\n",
    "    ('C', 5, 0)\n",
    "]\n",
    "\n",
    "# Step 8: Create and place each button\n",
    "for (text, row, col) in buttons:\n",
    "    action = (\n",
    "        calculate if text == '=' else\n",
    "        clear if text == 'C' else\n",
    "        lambda x=text: add_to_entry(x)\n",
    "    )\n",
    "    color = \"#1abc9c\" if text.isdigit() else \"#e67e22\" if text in \"+-*/\" else \"#e74c3c\" if text in \"=C\" else \"#3498db\"\n",
    "\n",
    "    tk.Button(\n",
    "        btn_frame, text=text, width=5, height=2, font=(\"Arial\", 16, \"bold\"),\n",
    "        bg=color, fg=\"white\", bd=0, command=action\n",
    "    ).grid(row=row, column=col, padx=5, pady=5)\n",
    "\n",
    "# Step 9: Run the application\n",
    "root.mainloop()\n"
   ]
  }
 ],
 "metadata": {
  "kernelspec": {
   "display_name": "base",
   "language": "python",
   "name": "python3"
  },
  "language_info": {
   "codemirror_mode": {
    "name": "ipython",
    "version": 3
   },
   "file_extension": ".py",
   "mimetype": "text/x-python",
   "name": "python",
   "nbconvert_exporter": "python",
   "pygments_lexer": "ipython3",
   "version": "3.12.4"
  }
 },
 "nbformat": 4,
 "nbformat_minor": 5
}
